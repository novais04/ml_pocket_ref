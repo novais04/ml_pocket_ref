{
  "nbformat": 4,
  "nbformat_minor": 0,
  "metadata": {
    "colab": {
      "name": "ch03 - Classifiacao_titanic.ipynb",
      "provenance": [],
      "toc_visible": true,
      "authorship_tag": "ABX9TyMZTAF7uw+ReMWKCLK2Infs",
      "include_colab_link": true
    },
    "kernelspec": {
      "name": "python3",
      "display_name": "Python 3"
    },
    "language_info": {
      "name": "python"
    },
    "widgets": {
      "application/vnd.jupyter.widget-state+json": {
        "2cee080a0fc24531b3d32ae01b06c2dc": {
          "model_module": "@jupyter-widgets/controls",
          "model_name": "HBoxModel",
          "model_module_version": "1.5.0",
          "state": {
            "_view_name": "HBoxView",
            "_dom_classes": [],
            "_model_name": "HBoxModel",
            "_view_module": "@jupyter-widgets/controls",
            "_model_module_version": "1.5.0",
            "_view_count": null,
            "_view_module_version": "1.5.0",
            "box_style": "",
            "layout": "IPY_MODEL_e56714cda6164de98a28f28c4baaed44",
            "_model_module": "@jupyter-widgets/controls",
            "children": [
              "IPY_MODEL_060be41a876a4187be387f73dc4c4c32",
              "IPY_MODEL_60e1e57e7bdf476da1ddb9873b337356",
              "IPY_MODEL_13193d98d1cc41b6a2635f9e7e67d604"
            ]
          }
        },
        "e56714cda6164de98a28f28c4baaed44": {
          "model_module": "@jupyter-widgets/base",
          "model_name": "LayoutModel",
          "model_module_version": "1.2.0",
          "state": {
            "_view_name": "LayoutView",
            "grid_template_rows": null,
            "right": null,
            "justify_content": null,
            "_view_module": "@jupyter-widgets/base",
            "overflow": null,
            "_model_module_version": "1.2.0",
            "_view_count": null,
            "flex_flow": "row wrap",
            "width": "100%",
            "min_width": null,
            "border": null,
            "align_items": null,
            "bottom": null,
            "_model_module": "@jupyter-widgets/base",
            "top": null,
            "grid_column": null,
            "overflow_y": null,
            "overflow_x": null,
            "grid_auto_flow": null,
            "grid_area": null,
            "grid_template_columns": null,
            "flex": null,
            "_model_name": "LayoutModel",
            "justify_items": null,
            "grid_row": null,
            "max_height": null,
            "align_content": null,
            "visibility": null,
            "align_self": null,
            "height": null,
            "min_height": null,
            "padding": null,
            "grid_auto_rows": null,
            "grid_gap": null,
            "max_width": null,
            "order": null,
            "_view_module_version": "1.2.0",
            "grid_template_areas": null,
            "object_position": null,
            "object_fit": null,
            "grid_auto_columns": null,
            "margin": null,
            "display": "inline-flex",
            "left": null
          }
        },
        "060be41a876a4187be387f73dc4c4c32": {
          "model_module": "@jupyter-widgets/controls",
          "model_name": "HTMLModel",
          "model_module_version": "1.5.0",
          "state": {
            "_view_name": "HTMLView",
            "style": "IPY_MODEL_8f2fad38395941c5bb970899121a8110",
            "_dom_classes": [],
            "description": "",
            "_model_name": "HTMLModel",
            "placeholder": "​",
            "_view_module": "@jupyter-widgets/controls",
            "_model_module_version": "1.5.0",
            "value": "Done! Use &#x27;show&#x27; commands to display/save.   ",
            "_view_count": null,
            "_view_module_version": "1.5.0",
            "description_tooltip": null,
            "_model_module": "@jupyter-widgets/controls",
            "layout": "IPY_MODEL_ff469a5ca4f14e5c84d196a2a3449d1b"
          }
        },
        "60e1e57e7bdf476da1ddb9873b337356": {
          "model_module": "@jupyter-widgets/controls",
          "model_name": "FloatProgressModel",
          "model_module_version": "1.5.0",
          "state": {
            "_view_name": "ProgressView",
            "style": "IPY_MODEL_c463e8c9d9cf4751bb45a127c958c11a",
            "_dom_classes": [],
            "description": "",
            "_model_name": "FloatProgressModel",
            "bar_style": "success",
            "max": 1,
            "_view_module": "@jupyter-widgets/controls",
            "_model_module_version": "1.5.0",
            "value": 1,
            "_view_count": null,
            "_view_module_version": "1.5.0",
            "orientation": "horizontal",
            "min": 0,
            "description_tooltip": null,
            "_model_module": "@jupyter-widgets/controls",
            "layout": "IPY_MODEL_3721fd7403a74bea86af9e7dcaf30dbb"
          }
        },
        "13193d98d1cc41b6a2635f9e7e67d604": {
          "model_module": "@jupyter-widgets/controls",
          "model_name": "HTMLModel",
          "model_module_version": "1.5.0",
          "state": {
            "_view_name": "HTMLView",
            "style": "IPY_MODEL_b0c3d01540ae4547829e75f9946e8eae",
            "_dom_classes": [],
            "description": "",
            "_model_name": "HTMLModel",
            "placeholder": "​",
            "_view_module": "@jupyter-widgets/controls",
            "_model_module_version": "1.5.0",
            "value": " [100%]   00:00 -&gt; (00:00 left)",
            "_view_count": null,
            "_view_module_version": "1.5.0",
            "description_tooltip": null,
            "_model_module": "@jupyter-widgets/controls",
            "layout": "IPY_MODEL_b3c5118c34fa48bd9048d8cb500164ce"
          }
        },
        "8f2fad38395941c5bb970899121a8110": {
          "model_module": "@jupyter-widgets/controls",
          "model_name": "DescriptionStyleModel",
          "model_module_version": "1.5.0",
          "state": {
            "_view_name": "StyleView",
            "_model_name": "DescriptionStyleModel",
            "description_width": "",
            "_view_module": "@jupyter-widgets/base",
            "_model_module_version": "1.5.0",
            "_view_count": null,
            "_view_module_version": "1.2.0",
            "_model_module": "@jupyter-widgets/controls"
          }
        },
        "ff469a5ca4f14e5c84d196a2a3449d1b": {
          "model_module": "@jupyter-widgets/base",
          "model_name": "LayoutModel",
          "model_module_version": "1.2.0",
          "state": {
            "_view_name": "LayoutView",
            "grid_template_rows": null,
            "right": null,
            "justify_content": null,
            "_view_module": "@jupyter-widgets/base",
            "overflow": null,
            "_model_module_version": "1.2.0",
            "_view_count": null,
            "flex_flow": null,
            "width": null,
            "min_width": null,
            "border": null,
            "align_items": null,
            "bottom": null,
            "_model_module": "@jupyter-widgets/base",
            "top": null,
            "grid_column": null,
            "overflow_y": null,
            "overflow_x": null,
            "grid_auto_flow": null,
            "grid_area": null,
            "grid_template_columns": null,
            "flex": null,
            "_model_name": "LayoutModel",
            "justify_items": null,
            "grid_row": null,
            "max_height": null,
            "align_content": null,
            "visibility": null,
            "align_self": null,
            "height": null,
            "min_height": null,
            "padding": null,
            "grid_auto_rows": null,
            "grid_gap": null,
            "max_width": null,
            "order": null,
            "_view_module_version": "1.2.0",
            "grid_template_areas": null,
            "object_position": null,
            "object_fit": null,
            "grid_auto_columns": null,
            "margin": null,
            "display": null,
            "left": null
          }
        },
        "c463e8c9d9cf4751bb45a127c958c11a": {
          "model_module": "@jupyter-widgets/controls",
          "model_name": "ProgressStyleModel",
          "model_module_version": "1.5.0",
          "state": {
            "_view_name": "StyleView",
            "_model_name": "ProgressStyleModel",
            "description_width": "",
            "_view_module": "@jupyter-widgets/base",
            "_model_module_version": "1.5.0",
            "_view_count": null,
            "_view_module_version": "1.2.0",
            "bar_color": null,
            "_model_module": "@jupyter-widgets/controls"
          }
        },
        "3721fd7403a74bea86af9e7dcaf30dbb": {
          "model_module": "@jupyter-widgets/base",
          "model_name": "LayoutModel",
          "model_module_version": "1.2.0",
          "state": {
            "_view_name": "LayoutView",
            "grid_template_rows": null,
            "right": null,
            "justify_content": null,
            "_view_module": "@jupyter-widgets/base",
            "overflow": null,
            "_model_module_version": "1.2.0",
            "_view_count": null,
            "flex_flow": null,
            "width": null,
            "min_width": null,
            "border": null,
            "align_items": null,
            "bottom": null,
            "_model_module": "@jupyter-widgets/base",
            "top": null,
            "grid_column": null,
            "overflow_y": null,
            "overflow_x": null,
            "grid_auto_flow": null,
            "grid_area": null,
            "grid_template_columns": null,
            "flex": "2",
            "_model_name": "LayoutModel",
            "justify_items": null,
            "grid_row": null,
            "max_height": null,
            "align_content": null,
            "visibility": null,
            "align_self": null,
            "height": null,
            "min_height": null,
            "padding": null,
            "grid_auto_rows": null,
            "grid_gap": null,
            "max_width": null,
            "order": null,
            "_view_module_version": "1.2.0",
            "grid_template_areas": null,
            "object_position": null,
            "object_fit": null,
            "grid_auto_columns": null,
            "margin": null,
            "display": null,
            "left": null
          }
        },
        "b0c3d01540ae4547829e75f9946e8eae": {
          "model_module": "@jupyter-widgets/controls",
          "model_name": "DescriptionStyleModel",
          "model_module_version": "1.5.0",
          "state": {
            "_view_name": "StyleView",
            "_model_name": "DescriptionStyleModel",
            "description_width": "",
            "_view_module": "@jupyter-widgets/base",
            "_model_module_version": "1.5.0",
            "_view_count": null,
            "_view_module_version": "1.2.0",
            "_model_module": "@jupyter-widgets/controls"
          }
        },
        "b3c5118c34fa48bd9048d8cb500164ce": {
          "model_module": "@jupyter-widgets/base",
          "model_name": "LayoutModel",
          "model_module_version": "1.2.0",
          "state": {
            "_view_name": "LayoutView",
            "grid_template_rows": null,
            "right": null,
            "justify_content": null,
            "_view_module": "@jupyter-widgets/base",
            "overflow": null,
            "_model_module_version": "1.2.0",
            "_view_count": null,
            "flex_flow": null,
            "width": null,
            "min_width": null,
            "border": null,
            "align_items": null,
            "bottom": null,
            "_model_module": "@jupyter-widgets/base",
            "top": null,
            "grid_column": null,
            "overflow_y": null,
            "overflow_x": null,
            "grid_auto_flow": null,
            "grid_area": null,
            "grid_template_columns": null,
            "flex": null,
            "_model_name": "LayoutModel",
            "justify_items": null,
            "grid_row": null,
            "max_height": null,
            "align_content": null,
            "visibility": null,
            "align_self": null,
            "height": null,
            "min_height": null,
            "padding": null,
            "grid_auto_rows": null,
            "grid_gap": null,
            "max_width": null,
            "order": null,
            "_view_module_version": "1.2.0",
            "grid_template_areas": null,
            "object_position": null,
            "object_fit": null,
            "grid_auto_columns": null,
            "margin": null,
            "display": null,
            "left": null
          }
        }
      }
    }
  },
  "cells": [
    {
      "cell_type": "markdown",
      "metadata": {
        "id": "view-in-github",
        "colab_type": "text"
      },
      "source": [
        "<a href=\"https://colab.research.google.com/github/novais04/GRR-Machine/blob/main/ch03_Classifiacao_titanic.ipynb\" target=\"_parent\"><img src=\"https://colab.research.google.com/assets/colab-badge.svg\" alt=\"Open In Colab\"/></a>"
      ]
    },
    {
      "cell_type": "markdown",
      "metadata": {
        "id": "ULGWB8jS38Jq"
      },
      "source": [
        "# Titanic - Modelos de Classificação\n",
        "\n",
        "Neste exemplo, queremos criar um modelo preditivo para responder a uma pergunta. Ele classificará se um indivíduo sobreviveu à catástrofe do navio Titanic com base nas características individuais e da viagem."
      ]
    },
    {
      "cell_type": "markdown",
      "metadata": {
        "id": "uf7Q_kXj4Cpo"
      },
      "source": [
        "# Importação de Biblíotecas e Base"
      ]
    },
    {
      "cell_type": "code",
      "metadata": {
        "id": "vYkX1t2e28_o"
      },
      "source": [
        "import pandas as pd\n",
        "\n",
        "# Visualização\n",
        "import matplotlib.pyplot as plt\n",
        "\n",
        "#Macchine Learning\n",
        "from sklearn import ensemble, preprocessing, tree\n",
        "from sklearn.metrics import auc, confusion_matrix, roc_auc_score, roc_curve\n",
        "from sklearn.model_selection import train_test_split, StratifiedKFold\n",
        "from yellowbrick.classifier import ConfusionMatrix, ROCAUC\n",
        "from yellowbrick.model_selection import LearningCurve"
      ],
      "execution_count": 235,
      "outputs": []
    },
    {
      "cell_type": "code",
      "metadata": {
        "id": "K1rJX45i4BTY"
      },
      "source": [
        "df = pd.read_csv('https://raw.githubusercontent.com/novais04/GRR-Machine/main/titanic3.csv', sep=';')"
      ],
      "execution_count": 236,
      "outputs": []
    },
    {
      "cell_type": "code",
      "metadata": {
        "id": "twi1JXBQ2YFG"
      },
      "source": [
        "orig_df = pd.read_csv('https://raw.githubusercontent.com/novais04/GRR-Machine/main/titanic3.csv', sep=';')"
      ],
      "execution_count": 237,
      "outputs": []
    },
    {
      "cell_type": "markdown",
      "metadata": {
        "id": "LnFmPwhK_Meh"
      },
      "source": [
        "## Limpe dados"
      ]
    },
    {
      "cell_type": "code",
      "metadata": {
        "colab": {
          "base_uri": "https://localhost:8080/"
        },
        "id": "rhDZDHdM_Nzo",
        "outputId": "ab222cd2-ce9b-4109-85f1-f0d7b835bbd4"
      },
      "source": [
        "df.dtypes"
      ],
      "execution_count": 238,
      "outputs": [
        {
          "output_type": "execute_result",
          "data": {
            "text/plain": [
              "pclass         int64\n",
              "survived       int64\n",
              "name          object\n",
              "sex           object\n",
              "age           object\n",
              "sibsp          int64\n",
              "parch          int64\n",
              "ticket        object\n",
              "fare          object\n",
              "cabin         object\n",
              "embarked      object\n",
              "boat          object\n",
              "body         float64\n",
              "home.dest     object\n",
              "dtype: object"
            ]
          },
          "metadata": {},
          "execution_count": 238
        }
      ]
    },
    {
      "cell_type": "code",
      "metadata": {
        "id": "ZDAG2H23_Ps5"
      },
      "source": [
        "df['age'].replace(',', '.', regex=True, inplace=True)"
      ],
      "execution_count": 239,
      "outputs": []
    },
    {
      "cell_type": "code",
      "metadata": {
        "id": "Sb0TXpp4_czs"
      },
      "source": [
        "df['age']=df['age'].astype(float)"
      ],
      "execution_count": 240,
      "outputs": []
    },
    {
      "cell_type": "code",
      "metadata": {
        "colab": {
          "base_uri": "https://localhost:8080/"
        },
        "id": "hOzGGUi5CuZ6",
        "outputId": "8dd04cac-7338-4441-afef-8879d9e9a3aa"
      },
      "source": [
        "df.dtypes"
      ],
      "execution_count": 241,
      "outputs": [
        {
          "output_type": "execute_result",
          "data": {
            "text/plain": [
              "pclass         int64\n",
              "survived       int64\n",
              "name          object\n",
              "sex           object\n",
              "age          float64\n",
              "sibsp          int64\n",
              "parch          int64\n",
              "ticket        object\n",
              "fare          object\n",
              "cabin         object\n",
              "embarked      object\n",
              "boat          object\n",
              "body         float64\n",
              "home.dest     object\n",
              "dtype: object"
            ]
          },
          "metadata": {},
          "execution_count": 241
        }
      ]
    },
    {
      "cell_type": "code",
      "metadata": {
        "id": "HmXzw4rRIiji"
      },
      "source": [
        "df['fare'].replace(',', '.', regex=True, inplace=True)"
      ],
      "execution_count": 242,
      "outputs": []
    },
    {
      "cell_type": "code",
      "metadata": {
        "id": "VJ_U5D6dIza9"
      },
      "source": [
        "df['fare'] = df['fare'].astype(float)"
      ],
      "execution_count": 243,
      "outputs": []
    },
    {
      "cell_type": "code",
      "metadata": {
        "colab": {
          "base_uri": "https://localhost:8080/"
        },
        "id": "B7pbzAwlIsU1",
        "outputId": "b1b5fd08-15a1-43bf-a554-f0b280a87cc4"
      },
      "source": [
        "df.dtypes"
      ],
      "execution_count": 244,
      "outputs": [
        {
          "output_type": "execute_result",
          "data": {
            "text/plain": [
              "pclass         int64\n",
              "survived       int64\n",
              "name          object\n",
              "sex           object\n",
              "age          float64\n",
              "sibsp          int64\n",
              "parch          int64\n",
              "ticket        object\n",
              "fare         float64\n",
              "cabin         object\n",
              "embarked      object\n",
              "boat          object\n",
              "body         float64\n",
              "home.dest     object\n",
              "dtype: object"
            ]
          },
          "metadata": {},
          "execution_count": 244
        }
      ]
    },
    {
      "cell_type": "markdown",
      "metadata": {
        "id": "GMU3G_p2IOGB"
      },
      "source": [
        "##Analise exploratória"
      ]
    },
    {
      "cell_type": "code",
      "metadata": {
        "id": "nHGKS0IADSsD"
      },
      "source": [
        "#import pandas_profiling"
      ],
      "execution_count": 245,
      "outputs": []
    },
    {
      "cell_type": "code",
      "metadata": {
        "id": "maS1SWsfDpA9"
      },
      "source": [
        "#pandas_profiling.ProfileReport(df)"
      ],
      "execution_count": 246,
      "outputs": []
    },
    {
      "cell_type": "code",
      "metadata": {
        "id": "60WgwbOrIUrB",
        "colab": {
          "base_uri": "https://localhost:8080/"
        },
        "outputId": "0b3fe6d3-8165-4e69-b649-3b9977531e03"
      },
      "source": [
        "!pip install sweetviz"
      ],
      "execution_count": 247,
      "outputs": [
        {
          "output_type": "stream",
          "name": "stdout",
          "text": [
            "Requirement already satisfied: sweetviz in /usr/local/lib/python3.7/dist-packages (2.1.3)\n",
            "Requirement already satisfied: jinja2>=2.11.1 in /usr/local/lib/python3.7/dist-packages (from sweetviz) (2.11.3)\n",
            "Requirement already satisfied: pandas!=1.0.0,!=1.0.1,!=1.0.2,>=0.25.3 in /usr/local/lib/python3.7/dist-packages (from sweetviz) (1.1.5)\n",
            "Requirement already satisfied: matplotlib>=3.1.3 in /usr/local/lib/python3.7/dist-packages (from sweetviz) (3.2.2)\n",
            "Requirement already satisfied: scipy>=1.3.2 in /usr/local/lib/python3.7/dist-packages (from sweetviz) (1.4.1)\n",
            "Requirement already satisfied: numpy>=1.16.0 in /usr/local/lib/python3.7/dist-packages (from sweetviz) (1.19.5)\n",
            "Requirement already satisfied: importlib-resources>=1.2.0 in /usr/local/lib/python3.7/dist-packages (from sweetviz) (5.2.2)\n",
            "Requirement already satisfied: tqdm>=4.43.0 in /usr/local/lib/python3.7/dist-packages (from sweetviz) (4.62.3)\n",
            "Requirement already satisfied: zipp>=3.1.0 in /usr/local/lib/python3.7/dist-packages (from importlib-resources>=1.2.0->sweetviz) (3.6.0)\n",
            "Requirement already satisfied: MarkupSafe>=0.23 in /usr/local/lib/python3.7/dist-packages (from jinja2>=2.11.1->sweetviz) (2.0.1)\n",
            "Requirement already satisfied: kiwisolver>=1.0.1 in /usr/local/lib/python3.7/dist-packages (from matplotlib>=3.1.3->sweetviz) (1.3.2)\n",
            "Requirement already satisfied: python-dateutil>=2.1 in /usr/local/lib/python3.7/dist-packages (from matplotlib>=3.1.3->sweetviz) (2.8.2)\n",
            "Requirement already satisfied: pyparsing!=2.0.4,!=2.1.2,!=2.1.6,>=2.0.1 in /usr/local/lib/python3.7/dist-packages (from matplotlib>=3.1.3->sweetviz) (2.4.7)\n",
            "Requirement already satisfied: cycler>=0.10 in /usr/local/lib/python3.7/dist-packages (from matplotlib>=3.1.3->sweetviz) (0.10.0)\n",
            "Requirement already satisfied: six in /usr/local/lib/python3.7/dist-packages (from cycler>=0.10->matplotlib>=3.1.3->sweetviz) (1.15.0)\n",
            "Requirement already satisfied: pytz>=2017.2 in /usr/local/lib/python3.7/dist-packages (from pandas!=1.0.0,!=1.0.1,!=1.0.2,>=0.25.3->sweetviz) (2018.9)\n"
          ]
        }
      ]
    },
    {
      "cell_type": "code",
      "metadata": {
        "id": "GMX-SSjnIJXX"
      },
      "source": [
        "import sweetviz as sv"
      ],
      "execution_count": 248,
      "outputs": []
    },
    {
      "cell_type": "code",
      "metadata": {
        "id": "amWSgAOsIj9f",
        "colab": {
          "base_uri": "https://localhost:8080/",
          "height": 0,
          "referenced_widgets": [
            "2cee080a0fc24531b3d32ae01b06c2dc",
            "e56714cda6164de98a28f28c4baaed44",
            "060be41a876a4187be387f73dc4c4c32",
            "60e1e57e7bdf476da1ddb9873b337356",
            "13193d98d1cc41b6a2635f9e7e67d604",
            "8f2fad38395941c5bb970899121a8110",
            "ff469a5ca4f14e5c84d196a2a3449d1b",
            "c463e8c9d9cf4751bb45a127c958c11a",
            "3721fd7403a74bea86af9e7dcaf30dbb",
            "b0c3d01540ae4547829e75f9946e8eae",
            "b3c5118c34fa48bd9048d8cb500164ce"
          ]
        },
        "outputId": "4e88c8e9-c699-41be-be00-37f10d12a132"
      },
      "source": [
        "report = sv.analyze(df)\n",
        "\n",
        "report.show_html(\"./report_titanic.html\")"
      ],
      "execution_count": 249,
      "outputs": [
        {
          "output_type": "display_data",
          "data": {
            "application/vnd.jupyter.widget-view+json": {
              "model_id": "2cee080a0fc24531b3d32ae01b06c2dc",
              "version_minor": 0,
              "version_major": 2
            },
            "text/plain": [
              "                                             |          | [  0%]   00:00 -> (? left)"
            ]
          },
          "metadata": {}
        },
        {
          "output_type": "stream",
          "name": "stdout",
          "text": [
            "Report ./report_titanic.html was generated! NOTEBOOK/COLAB USERS: the web browser MAY not pop up, regardless, the report IS saved in your notebook/colab files.\n"
          ]
        }
      ]
    },
    {
      "cell_type": "code",
      "metadata": {
        "colab": {
          "base_uri": "https://localhost:8080/"
        },
        "id": "qrpyHtI8Dtl5",
        "outputId": "3ec9ca74-8a98-40d1-ceec-05b71d606d0d"
      },
      "source": [
        "df.shape"
      ],
      "execution_count": 250,
      "outputs": [
        {
          "output_type": "execute_result",
          "data": {
            "text/plain": [
              "(1309, 14)"
            ]
          },
          "metadata": {},
          "execution_count": 250
        }
      ]
    },
    {
      "cell_type": "code",
      "metadata": {
        "colab": {
          "base_uri": "https://localhost:8080/",
          "height": 0
        },
        "id": "--jtF8UHEC1t",
        "outputId": "0a5f4825-08fc-4bb9-a4e1-e175fc84b556"
      },
      "source": [
        "df.describe().iloc[:,:2]"
      ],
      "execution_count": 251,
      "outputs": [
        {
          "output_type": "execute_result",
          "data": {
            "text/html": [
              "<div>\n",
              "<style scoped>\n",
              "    .dataframe tbody tr th:only-of-type {\n",
              "        vertical-align: middle;\n",
              "    }\n",
              "\n",
              "    .dataframe tbody tr th {\n",
              "        vertical-align: top;\n",
              "    }\n",
              "\n",
              "    .dataframe thead th {\n",
              "        text-align: right;\n",
              "    }\n",
              "</style>\n",
              "<table border=\"1\" class=\"dataframe\">\n",
              "  <thead>\n",
              "    <tr style=\"text-align: right;\">\n",
              "      <th></th>\n",
              "      <th>pclass</th>\n",
              "      <th>survived</th>\n",
              "    </tr>\n",
              "  </thead>\n",
              "  <tbody>\n",
              "    <tr>\n",
              "      <th>count</th>\n",
              "      <td>1309.000000</td>\n",
              "      <td>1309.000000</td>\n",
              "    </tr>\n",
              "    <tr>\n",
              "      <th>mean</th>\n",
              "      <td>2.294882</td>\n",
              "      <td>0.381971</td>\n",
              "    </tr>\n",
              "    <tr>\n",
              "      <th>std</th>\n",
              "      <td>0.837836</td>\n",
              "      <td>0.486055</td>\n",
              "    </tr>\n",
              "    <tr>\n",
              "      <th>min</th>\n",
              "      <td>1.000000</td>\n",
              "      <td>0.000000</td>\n",
              "    </tr>\n",
              "    <tr>\n",
              "      <th>25%</th>\n",
              "      <td>2.000000</td>\n",
              "      <td>0.000000</td>\n",
              "    </tr>\n",
              "    <tr>\n",
              "      <th>50%</th>\n",
              "      <td>3.000000</td>\n",
              "      <td>0.000000</td>\n",
              "    </tr>\n",
              "    <tr>\n",
              "      <th>75%</th>\n",
              "      <td>3.000000</td>\n",
              "      <td>1.000000</td>\n",
              "    </tr>\n",
              "    <tr>\n",
              "      <th>max</th>\n",
              "      <td>3.000000</td>\n",
              "      <td>1.000000</td>\n",
              "    </tr>\n",
              "  </tbody>\n",
              "</table>\n",
              "</div>"
            ],
            "text/plain": [
              "            pclass     survived\n",
              "count  1309.000000  1309.000000\n",
              "mean      2.294882     0.381971\n",
              "std       0.837836     0.486055\n",
              "min       1.000000     0.000000\n",
              "25%       2.000000     0.000000\n",
              "50%       3.000000     0.000000\n",
              "75%       3.000000     1.000000\n",
              "max       3.000000     1.000000"
            ]
          },
          "metadata": {},
          "execution_count": 251
        }
      ]
    },
    {
      "cell_type": "code",
      "metadata": {
        "colab": {
          "base_uri": "https://localhost:8080/",
          "height": 0
        },
        "id": "kkVO7RTeEGmA",
        "outputId": "a81aa661-a87e-47a6-d5ff-e1876168026d"
      },
      "source": [
        "df.describe()"
      ],
      "execution_count": 252,
      "outputs": [
        {
          "output_type": "execute_result",
          "data": {
            "text/html": [
              "<div>\n",
              "<style scoped>\n",
              "    .dataframe tbody tr th:only-of-type {\n",
              "        vertical-align: middle;\n",
              "    }\n",
              "\n",
              "    .dataframe tbody tr th {\n",
              "        vertical-align: top;\n",
              "    }\n",
              "\n",
              "    .dataframe thead th {\n",
              "        text-align: right;\n",
              "    }\n",
              "</style>\n",
              "<table border=\"1\" class=\"dataframe\">\n",
              "  <thead>\n",
              "    <tr style=\"text-align: right;\">\n",
              "      <th></th>\n",
              "      <th>pclass</th>\n",
              "      <th>survived</th>\n",
              "      <th>age</th>\n",
              "      <th>sibsp</th>\n",
              "      <th>parch</th>\n",
              "      <th>fare</th>\n",
              "      <th>body</th>\n",
              "    </tr>\n",
              "  </thead>\n",
              "  <tbody>\n",
              "    <tr>\n",
              "      <th>count</th>\n",
              "      <td>1309.000000</td>\n",
              "      <td>1309.000000</td>\n",
              "      <td>1046.000000</td>\n",
              "      <td>1309.000000</td>\n",
              "      <td>1309.000000</td>\n",
              "      <td>1308.000000</td>\n",
              "      <td>121.000000</td>\n",
              "    </tr>\n",
              "    <tr>\n",
              "      <th>mean</th>\n",
              "      <td>2.294882</td>\n",
              "      <td>0.381971</td>\n",
              "      <td>29.881135</td>\n",
              "      <td>0.498854</td>\n",
              "      <td>0.385027</td>\n",
              "      <td>33.295479</td>\n",
              "      <td>160.809917</td>\n",
              "    </tr>\n",
              "    <tr>\n",
              "      <th>std</th>\n",
              "      <td>0.837836</td>\n",
              "      <td>0.486055</td>\n",
              "      <td>14.413500</td>\n",
              "      <td>1.041658</td>\n",
              "      <td>0.865560</td>\n",
              "      <td>51.758668</td>\n",
              "      <td>97.696922</td>\n",
              "    </tr>\n",
              "    <tr>\n",
              "      <th>min</th>\n",
              "      <td>1.000000</td>\n",
              "      <td>0.000000</td>\n",
              "      <td>0.166700</td>\n",
              "      <td>0.000000</td>\n",
              "      <td>0.000000</td>\n",
              "      <td>0.000000</td>\n",
              "      <td>1.000000</td>\n",
              "    </tr>\n",
              "    <tr>\n",
              "      <th>25%</th>\n",
              "      <td>2.000000</td>\n",
              "      <td>0.000000</td>\n",
              "      <td>21.000000</td>\n",
              "      <td>0.000000</td>\n",
              "      <td>0.000000</td>\n",
              "      <td>7.895800</td>\n",
              "      <td>72.000000</td>\n",
              "    </tr>\n",
              "    <tr>\n",
              "      <th>50%</th>\n",
              "      <td>3.000000</td>\n",
              "      <td>0.000000</td>\n",
              "      <td>28.000000</td>\n",
              "      <td>0.000000</td>\n",
              "      <td>0.000000</td>\n",
              "      <td>14.454200</td>\n",
              "      <td>155.000000</td>\n",
              "    </tr>\n",
              "    <tr>\n",
              "      <th>75%</th>\n",
              "      <td>3.000000</td>\n",
              "      <td>1.000000</td>\n",
              "      <td>39.000000</td>\n",
              "      <td>1.000000</td>\n",
              "      <td>0.000000</td>\n",
              "      <td>31.275000</td>\n",
              "      <td>256.000000</td>\n",
              "    </tr>\n",
              "    <tr>\n",
              "      <th>max</th>\n",
              "      <td>3.000000</td>\n",
              "      <td>1.000000</td>\n",
              "      <td>80.000000</td>\n",
              "      <td>8.000000</td>\n",
              "      <td>9.000000</td>\n",
              "      <td>512.329200</td>\n",
              "      <td>328.000000</td>\n",
              "    </tr>\n",
              "  </tbody>\n",
              "</table>\n",
              "</div>"
            ],
            "text/plain": [
              "            pclass     survived  ...         fare        body\n",
              "count  1309.000000  1309.000000  ...  1308.000000  121.000000\n",
              "mean      2.294882     0.381971  ...    33.295479  160.809917\n",
              "std       0.837836     0.486055  ...    51.758668   97.696922\n",
              "min       1.000000     0.000000  ...     0.000000    1.000000\n",
              "25%       2.000000     0.000000  ...     7.895800   72.000000\n",
              "50%       3.000000     0.000000  ...    14.454200  155.000000\n",
              "75%       3.000000     1.000000  ...    31.275000  256.000000\n",
              "max       3.000000     1.000000  ...   512.329200  328.000000\n",
              "\n",
              "[8 rows x 7 columns]"
            ]
          },
          "metadata": {},
          "execution_count": 252
        }
      ]
    },
    {
      "cell_type": "code",
      "metadata": {
        "colab": {
          "base_uri": "https://localhost:8080/"
        },
        "id": "8YJbVT6WEgGE",
        "outputId": "46ea3752-a65b-48c6-d04f-562367b29ce7"
      },
      "source": [
        "# verifiando a quantidade de nulos por coluna\n",
        "df.isnull().sum()"
      ],
      "execution_count": 253,
      "outputs": [
        {
          "output_type": "execute_result",
          "data": {
            "text/plain": [
              "pclass          0\n",
              "survived        0\n",
              "name            0\n",
              "sex             0\n",
              "age           263\n",
              "sibsp           0\n",
              "parch           0\n",
              "ticket          0\n",
              "fare            1\n",
              "cabin        1014\n",
              "embarked        2\n",
              "boat          823\n",
              "body         1188\n",
              "home.dest     564\n",
              "dtype: int64"
            ]
          },
          "metadata": {},
          "execution_count": 253
        }
      ]
    },
    {
      "cell_type": "code",
      "metadata": {
        "colab": {
          "base_uri": "https://localhost:8080/"
        },
        "id": "hD_gScG-EyPJ",
        "outputId": "3a4b9dbe-d003-4f65-eb8d-f40a38ccc91b"
      },
      "source": [
        "# Verificando a média de nulos por coluna\n",
        "df.isnull().mean()"
      ],
      "execution_count": 254,
      "outputs": [
        {
          "output_type": "execute_result",
          "data": {
            "text/plain": [
              "pclass       0.000000\n",
              "survived     0.000000\n",
              "name         0.000000\n",
              "sex          0.000000\n",
              "age          0.200917\n",
              "sibsp        0.000000\n",
              "parch        0.000000\n",
              "ticket       0.000000\n",
              "fare         0.000764\n",
              "cabin        0.774637\n",
              "embarked     0.001528\n",
              "boat         0.628724\n",
              "body         0.907563\n",
              "home.dest    0.430863\n",
              "dtype: float64"
            ]
          },
          "metadata": {},
          "execution_count": 254
        }
      ]
    },
    {
      "cell_type": "markdown",
      "metadata": {
        "id": "HBq2ui8JFSDt"
      },
      "source": [
        "Suposições\n",
        "- a coluna idade pode ser útil, já que crianças tem prioridade nestes casos.\n",
        "- Boat, cabin tedem a não ser relevantes --> srão descartadas\n",
        "- body, além de não ser relevante causa vazamento de informações, pois informa o passageiro que não sobreviveu.\n",
        "- Boat causa vazamento, porque indica o passageiro que sobreviveu"
      ]
    },
    {
      "cell_type": "code",
      "metadata": {
        "id": "UIRyvioEF7QB"
      },
      "source": [
        "# Analisando algumas linhas com dados ausentes\n",
        "mask = df.isnull().any(axis=1)"
      ],
      "execution_count": 255,
      "outputs": []
    },
    {
      "cell_type": "code",
      "metadata": {
        "id": "vHdc9vJCLPSc",
        "colab": {
          "base_uri": "https://localhost:8080/"
        },
        "outputId": "75f5678a-1edd-407d-a78a-c5950df31e0b"
      },
      "source": [
        "mask.head()"
      ],
      "execution_count": 256,
      "outputs": [
        {
          "output_type": "execute_result",
          "data": {
            "text/plain": [
              "0    True\n",
              "1    True\n",
              "2    True\n",
              "3    True\n",
              "4    True\n",
              "dtype: bool"
            ]
          },
          "metadata": {},
          "execution_count": 256
        }
      ]
    },
    {
      "cell_type": "code",
      "metadata": {
        "colab": {
          "base_uri": "https://localhost:8080/"
        },
        "id": "_VvSgyJAGErP",
        "outputId": "f13c1807-0f63-49fd-e9f6-f579f5cee08c"
      },
      "source": [
        "df[mask].body.head()"
      ],
      "execution_count": 257,
      "outputs": [
        {
          "output_type": "execute_result",
          "data": {
            "text/plain": [
              "0      NaN\n",
              "1      NaN\n",
              "2      NaN\n",
              "3    135.0\n",
              "4      NaN\n",
              "Name: body, dtype: float64"
            ]
          },
          "metadata": {},
          "execution_count": 257
        }
      ]
    },
    {
      "cell_type": "markdown",
      "metadata": {
        "id": "FG9KaF4WGegF"
      },
      "source": [
        "## Avaliando as colunas do tipo Object\n",
        "pd.value_counts(dropna=False)"
      ]
    },
    {
      "cell_type": "code",
      "metadata": {
        "colab": {
          "base_uri": "https://localhost:8080/"
        },
        "id": "Y1Rnw8iVGNG4",
        "outputId": "829aeba4-48a1-40c5-e567-38d7158ff761"
      },
      "source": [
        "# \"dropna=False\" inclui os valores NaN em clount\n",
        "df.sex.value_counts(dropna=False)"
      ],
      "execution_count": 258,
      "outputs": [
        {
          "output_type": "execute_result",
          "data": {
            "text/plain": [
              "male      843\n",
              "female    466\n",
              "Name: sex, dtype: int64"
            ]
          },
          "metadata": {},
          "execution_count": 258
        }
      ]
    },
    {
      "cell_type": "code",
      "metadata": {
        "colab": {
          "base_uri": "https://localhost:8080/"
        },
        "id": "sV1QwbN_Gyp1",
        "outputId": "4de112eb-e2bf-4269-e322-99d382dc4807"
      },
      "source": [
        "df.embarked.value_counts(dropna=False)"
      ],
      "execution_count": 259,
      "outputs": [
        {
          "output_type": "execute_result",
          "data": {
            "text/plain": [
              "S      914\n",
              "C      270\n",
              "Q      123\n",
              "NaN      2\n",
              "Name: embarked, dtype: int64"
            ]
          },
          "metadata": {},
          "execution_count": 259
        }
      ]
    },
    {
      "cell_type": "markdown",
      "metadata": {
        "id": "aU1yov9BHRy_"
      },
      "source": [
        "## Crie atributos"
      ]
    },
    {
      "cell_type": "code",
      "metadata": {
        "id": "Uiz4cxwWHTCE"
      },
      "source": [
        "name = df.name"
      ],
      "execution_count": 260,
      "outputs": []
    },
    {
      "cell_type": "code",
      "metadata": {
        "colab": {
          "base_uri": "https://localhost:8080/"
        },
        "id": "8Ke4cC3hHhsn",
        "outputId": "32cb6911-33e5-4864-d8d4-9df97d118b4c"
      },
      "source": [
        "name.head(10)"
      ],
      "execution_count": 261,
      "outputs": [
        {
          "output_type": "execute_result",
          "data": {
            "text/plain": [
              "0                      Allen, Miss. Elisabeth Walton\n",
              "1                     Allison, Master. Hudson Trevor\n",
              "2                       Allison, Miss. Helen Loraine\n",
              "3               Allison, Mr. Hudson Joshua Creighton\n",
              "4    Allison, Mrs. Hudson J C (Bessie Waldo Daniels)\n",
              "5                                Anderson, Mr. Harry\n",
              "6                  Andrews, Miss. Kornelia Theodosia\n",
              "7                             Andrews, Mr. Thomas Jr\n",
              "8      Appleton, Mrs. Edward Dale (Charlotte Lamson)\n",
              "9                            Artagaveytia, Mr. Ramon\n",
              "Name: name, dtype: object"
            ]
          },
          "metadata": {},
          "execution_count": 261
        }
      ]
    },
    {
      "cell_type": "code",
      "metadata": {
        "id": "S8FEDTyLHjUq"
      },
      "source": [
        "# Excuindo as colunas que não vamos trabalhar\n",
        "df.drop(columns=[\n",
        "                 'name',\n",
        "                 'ticket',\n",
        "                 'home.dest',\n",
        "                 'boat',\n",
        "                 'body',\n",
        "                 'cabin'\n",
        "                 ],\n",
        "        inplace = True\n",
        "        )"
      ],
      "execution_count": 262,
      "outputs": []
    },
    {
      "cell_type": "code",
      "metadata": {
        "id": "qQCI1dBTH6lR"
      },
      "source": [
        "#Criando colunas Dummies para sexo e Emabarked\n",
        "df = pd.get_dummies(df)"
      ],
      "execution_count": 263,
      "outputs": []
    },
    {
      "cell_type": "code",
      "metadata": {
        "colab": {
          "base_uri": "https://localhost:8080/"
        },
        "id": "CGStqZsAIUZh",
        "outputId": "cb2feb19-8db7-4190-fca7-caceddaa6246"
      },
      "source": [
        "df.columns"
      ],
      "execution_count": 264,
      "outputs": [
        {
          "output_type": "execute_result",
          "data": {
            "text/plain": [
              "Index(['pclass', 'survived', 'age', 'sibsp', 'parch', 'fare', 'sex_female',\n",
              "       'sex_male', 'embarked_C', 'embarked_Q', 'embarked_S'],\n",
              "      dtype='object')"
            ]
          },
          "metadata": {},
          "execution_count": 264
        }
      ]
    },
    {
      "cell_type": "code",
      "metadata": {
        "id": "r4jxyOv-IXe_"
      },
      "source": [
        "df.drop(columns='sex_male', inplace=True)"
      ],
      "execution_count": 265,
      "outputs": []
    },
    {
      "cell_type": "code",
      "metadata": {
        "id": "w03naeSIJyza"
      },
      "source": [
        "df = pd.get_dummies(df, drop_first=True)"
      ],
      "execution_count": 266,
      "outputs": []
    },
    {
      "cell_type": "code",
      "metadata": {
        "colab": {
          "base_uri": "https://localhost:8080/"
        },
        "id": "x2AixEfxJ4AL",
        "outputId": "8807cf22-1270-495a-ee67-794e342f620c"
      },
      "source": [
        "df.columns"
      ],
      "execution_count": 267,
      "outputs": [
        {
          "output_type": "execute_result",
          "data": {
            "text/plain": [
              "Index(['pclass', 'survived', 'age', 'sibsp', 'parch', 'fare', 'sex_female',\n",
              "       'embarked_C', 'embarked_Q', 'embarked_S'],\n",
              "      dtype='object')"
            ]
          },
          "metadata": {},
          "execution_count": 267
        }
      ]
    },
    {
      "cell_type": "markdown",
      "metadata": {
        "id": "uain3EbALX0_"
      },
      "source": [
        "## Separe as amostras"
      ]
    },
    {
      "cell_type": "markdown",
      "metadata": {
        "id": "ok_3Dip_KME1"
      },
      "source": [
        "### Criando Dataframe de variavel resposta e Variaveis de explicação com __Pyjanitor__"
      ]
    },
    {
      "cell_type": "code",
      "metadata": {
        "id": "Q13oMqOXKiBH",
        "colab": {
          "base_uri": "https://localhost:8080/"
        },
        "outputId": "6d25ce3c-8f24-4ec1-a701-582a33c7caff"
      },
      "source": [
        "!pip install pyjanitor"
      ],
      "execution_count": 268,
      "outputs": [
        {
          "output_type": "stream",
          "name": "stdout",
          "text": [
            "Requirement already satisfied: pyjanitor in /usr/local/lib/python3.7/dist-packages (0.21.2)\n",
            "Requirement already satisfied: scipy in /usr/local/lib/python3.7/dist-packages (from pyjanitor) (1.4.1)\n",
            "Requirement already satisfied: multipledispatch in /usr/local/lib/python3.7/dist-packages (from pyjanitor) (0.6.0)\n",
            "Requirement already satisfied: natsort in /usr/local/lib/python3.7/dist-packages (from pyjanitor) (5.5.0)\n",
            "Requirement already satisfied: pandas-flavor in /usr/local/lib/python3.7/dist-packages (from pyjanitor) (0.2.0)\n",
            "Requirement already satisfied: six in /usr/local/lib/python3.7/dist-packages (from multipledispatch->pyjanitor) (1.15.0)\n",
            "Requirement already satisfied: pandas in /usr/local/lib/python3.7/dist-packages (from pandas-flavor->pyjanitor) (1.1.5)\n",
            "Requirement already satisfied: xarray in /usr/local/lib/python3.7/dist-packages (from pandas-flavor->pyjanitor) (0.18.2)\n",
            "Requirement already satisfied: numpy>=1.15.4 in /usr/local/lib/python3.7/dist-packages (from pandas->pandas-flavor->pyjanitor) (1.19.5)\n",
            "Requirement already satisfied: pytz>=2017.2 in /usr/local/lib/python3.7/dist-packages (from pandas->pandas-flavor->pyjanitor) (2018.9)\n",
            "Requirement already satisfied: python-dateutil>=2.7.3 in /usr/local/lib/python3.7/dist-packages (from pandas->pandas-flavor->pyjanitor) (2.8.2)\n",
            "Requirement already satisfied: setuptools>=40.4 in /usr/local/lib/python3.7/dist-packages (from xarray->pandas-flavor->pyjanitor) (57.4.0)\n"
          ]
        }
      ]
    },
    {
      "cell_type": "code",
      "metadata": {
        "id": "QXqtJ5fRKLAH"
      },
      "source": [
        "import janitor as jn"
      ],
      "execution_count": 269,
      "outputs": []
    },
    {
      "cell_type": "code",
      "metadata": {
        "colab": {
          "base_uri": "https://localhost:8080/"
        },
        "id": "RfLqAGUBJ9oP",
        "outputId": "0794cfde-401c-47dc-b642-ff8c176b72fb"
      },
      "source": [
        "X, y = jn.get_features_targets(\n",
        "    df, target_columns=\"survived\"\n",
        ")"
      ],
      "execution_count": 270,
      "outputs": [
        {
          "output_type": "stream",
          "name": "stderr",
          "text": [
            "/usr/local/lib/python3.7/dist-packages/janitor/utils.py:309: FutureWarning: get_features_targets() has moved. Please use ml.get_features_targets().\n",
            "  warnings.warn(message, FutureWarning)\n"
          ]
        }
      ]
    },
    {
      "cell_type": "code",
      "metadata": {
        "id": "BNNlOlZMKzsA",
        "colab": {
          "base_uri": "https://localhost:8080/",
          "height": 0
        },
        "outputId": "f17b82bb-9373-4952-87df-2a0b22aea765"
      },
      "source": [
        "X"
      ],
      "execution_count": 271,
      "outputs": [
        {
          "output_type": "execute_result",
          "data": {
            "text/html": [
              "<div>\n",
              "<style scoped>\n",
              "    .dataframe tbody tr th:only-of-type {\n",
              "        vertical-align: middle;\n",
              "    }\n",
              "\n",
              "    .dataframe tbody tr th {\n",
              "        vertical-align: top;\n",
              "    }\n",
              "\n",
              "    .dataframe thead th {\n",
              "        text-align: right;\n",
              "    }\n",
              "</style>\n",
              "<table border=\"1\" class=\"dataframe\">\n",
              "  <thead>\n",
              "    <tr style=\"text-align: right;\">\n",
              "      <th></th>\n",
              "      <th>pclass</th>\n",
              "      <th>age</th>\n",
              "      <th>sibsp</th>\n",
              "      <th>parch</th>\n",
              "      <th>fare</th>\n",
              "      <th>sex_female</th>\n",
              "      <th>embarked_C</th>\n",
              "      <th>embarked_Q</th>\n",
              "      <th>embarked_S</th>\n",
              "    </tr>\n",
              "  </thead>\n",
              "  <tbody>\n",
              "    <tr>\n",
              "      <th>0</th>\n",
              "      <td>1</td>\n",
              "      <td>29.0000</td>\n",
              "      <td>0</td>\n",
              "      <td>0</td>\n",
              "      <td>211.3375</td>\n",
              "      <td>1</td>\n",
              "      <td>0</td>\n",
              "      <td>0</td>\n",
              "      <td>1</td>\n",
              "    </tr>\n",
              "    <tr>\n",
              "      <th>1</th>\n",
              "      <td>1</td>\n",
              "      <td>0.9167</td>\n",
              "      <td>1</td>\n",
              "      <td>2</td>\n",
              "      <td>151.5500</td>\n",
              "      <td>0</td>\n",
              "      <td>0</td>\n",
              "      <td>0</td>\n",
              "      <td>1</td>\n",
              "    </tr>\n",
              "    <tr>\n",
              "      <th>2</th>\n",
              "      <td>1</td>\n",
              "      <td>2.0000</td>\n",
              "      <td>1</td>\n",
              "      <td>2</td>\n",
              "      <td>151.5500</td>\n",
              "      <td>1</td>\n",
              "      <td>0</td>\n",
              "      <td>0</td>\n",
              "      <td>1</td>\n",
              "    </tr>\n",
              "    <tr>\n",
              "      <th>3</th>\n",
              "      <td>1</td>\n",
              "      <td>30.0000</td>\n",
              "      <td>1</td>\n",
              "      <td>2</td>\n",
              "      <td>151.5500</td>\n",
              "      <td>0</td>\n",
              "      <td>0</td>\n",
              "      <td>0</td>\n",
              "      <td>1</td>\n",
              "    </tr>\n",
              "    <tr>\n",
              "      <th>4</th>\n",
              "      <td>1</td>\n",
              "      <td>25.0000</td>\n",
              "      <td>1</td>\n",
              "      <td>2</td>\n",
              "      <td>151.5500</td>\n",
              "      <td>1</td>\n",
              "      <td>0</td>\n",
              "      <td>0</td>\n",
              "      <td>1</td>\n",
              "    </tr>\n",
              "    <tr>\n",
              "      <th>...</th>\n",
              "      <td>...</td>\n",
              "      <td>...</td>\n",
              "      <td>...</td>\n",
              "      <td>...</td>\n",
              "      <td>...</td>\n",
              "      <td>...</td>\n",
              "      <td>...</td>\n",
              "      <td>...</td>\n",
              "      <td>...</td>\n",
              "    </tr>\n",
              "    <tr>\n",
              "      <th>1304</th>\n",
              "      <td>3</td>\n",
              "      <td>14.5000</td>\n",
              "      <td>1</td>\n",
              "      <td>0</td>\n",
              "      <td>14.4542</td>\n",
              "      <td>1</td>\n",
              "      <td>1</td>\n",
              "      <td>0</td>\n",
              "      <td>0</td>\n",
              "    </tr>\n",
              "    <tr>\n",
              "      <th>1305</th>\n",
              "      <td>3</td>\n",
              "      <td>NaN</td>\n",
              "      <td>1</td>\n",
              "      <td>0</td>\n",
              "      <td>14.4542</td>\n",
              "      <td>1</td>\n",
              "      <td>1</td>\n",
              "      <td>0</td>\n",
              "      <td>0</td>\n",
              "    </tr>\n",
              "    <tr>\n",
              "      <th>1306</th>\n",
              "      <td>3</td>\n",
              "      <td>26.5000</td>\n",
              "      <td>0</td>\n",
              "      <td>0</td>\n",
              "      <td>7.2250</td>\n",
              "      <td>0</td>\n",
              "      <td>1</td>\n",
              "      <td>0</td>\n",
              "      <td>0</td>\n",
              "    </tr>\n",
              "    <tr>\n",
              "      <th>1307</th>\n",
              "      <td>3</td>\n",
              "      <td>27.0000</td>\n",
              "      <td>0</td>\n",
              "      <td>0</td>\n",
              "      <td>7.2250</td>\n",
              "      <td>0</td>\n",
              "      <td>1</td>\n",
              "      <td>0</td>\n",
              "      <td>0</td>\n",
              "    </tr>\n",
              "    <tr>\n",
              "      <th>1308</th>\n",
              "      <td>3</td>\n",
              "      <td>29.0000</td>\n",
              "      <td>0</td>\n",
              "      <td>0</td>\n",
              "      <td>7.8750</td>\n",
              "      <td>0</td>\n",
              "      <td>0</td>\n",
              "      <td>0</td>\n",
              "      <td>1</td>\n",
              "    </tr>\n",
              "  </tbody>\n",
              "</table>\n",
              "<p>1309 rows × 9 columns</p>\n",
              "</div>"
            ],
            "text/plain": [
              "      pclass      age  sibsp  ...  embarked_C  embarked_Q  embarked_S\n",
              "0          1  29.0000      0  ...           0           0           1\n",
              "1          1   0.9167      1  ...           0           0           1\n",
              "2          1   2.0000      1  ...           0           0           1\n",
              "3          1  30.0000      1  ...           0           0           1\n",
              "4          1  25.0000      1  ...           0           0           1\n",
              "...      ...      ...    ...  ...         ...         ...         ...\n",
              "1304       3  14.5000      1  ...           1           0           0\n",
              "1305       3      NaN      1  ...           1           0           0\n",
              "1306       3  26.5000      0  ...           1           0           0\n",
              "1307       3  27.0000      0  ...           1           0           0\n",
              "1308       3  29.0000      0  ...           0           0           1\n",
              "\n",
              "[1309 rows x 9 columns]"
            ]
          },
          "metadata": {},
          "execution_count": 271
        }
      ]
    },
    {
      "cell_type": "code",
      "metadata": {
        "id": "jl-m8DS6LNEW"
      },
      "source": [
        "X_train, X_test, y_train, y_test = train_test_split(\n",
        "    X, y, test_size=0.3, random_state=42\n",
        ")"
      ],
      "execution_count": 272,
      "outputs": []
    },
    {
      "cell_type": "markdown",
      "metadata": {
        "id": "sSguIeSjLxSx"
      },
      "source": [
        "## Completando os dados\n",
        "Faça a imputaçao dos dados "
      ]
    },
    {
      "cell_type": "code",
      "metadata": {
        "id": "9W8UE2XPLroj"
      },
      "source": [
        "from sklearn.experimental import enable_iterative_imputer\n",
        "from sklearn import impute"
      ],
      "execution_count": 273,
      "outputs": []
    },
    {
      "cell_type": "code",
      "metadata": {
        "id": "xDLx5YG1Lj3p"
      },
      "source": [
        "num_cols = [\n",
        "    'pclass',\n",
        "    'age',\n",
        "    'sibsp', \n",
        "    'parch', \n",
        "    'fare', \n",
        "    'sex_female'\n",
        "]"
      ],
      "execution_count": 274,
      "outputs": []
    },
    {
      "cell_type": "code",
      "metadata": {
        "id": "nSh92vIxMYMp"
      },
      "source": [
        "imputer = impute.IterativeImputer()"
      ],
      "execution_count": 275,
      "outputs": []
    },
    {
      "cell_type": "code",
      "metadata": {
        "id": "tpopIjzML9iw"
      },
      "source": [
        "imputed = imputer.fit_transform(X_train[num_cols])"
      ],
      "execution_count": 276,
      "outputs": []
    },
    {
      "cell_type": "code",
      "metadata": {
        "id": "hFzEQddfL_Z7",
        "colab": {
          "base_uri": "https://localhost:8080/"
        },
        "outputId": "97e0d143-a253-4531-e53e-6828dab0e060"
      },
      "source": [
        "X_train.loc[:,num_cols] = imputed"
      ],
      "execution_count": 277,
      "outputs": [
        {
          "output_type": "stream",
          "name": "stderr",
          "text": [
            "/usr/local/lib/python3.7/dist-packages/pandas/core/indexing.py:1734: SettingWithCopyWarning: \n",
            "A value is trying to be set on a copy of a slice from a DataFrame.\n",
            "Try using .loc[row_indexer,col_indexer] = value instead\n",
            "\n",
            "See the caveats in the documentation: https://pandas.pydata.org/pandas-docs/stable/user_guide/indexing.html#returning-a-view-versus-a-copy\n",
            "  isetter(loc, value[:, i].tolist())\n"
          ]
        }
      ]
    },
    {
      "cell_type": "code",
      "metadata": {
        "id": "T4JJfZiyM5Nx",
        "colab": {
          "base_uri": "https://localhost:8080/"
        },
        "outputId": "6ec9c8a1-7824-43af-e47b-cf5f336670c9"
      },
      "source": [
        "imputed = imputer.fit_transform(X_test[num_cols])\n",
        "X_test.loc[:, num_cols] = imputed"
      ],
      "execution_count": 278,
      "outputs": [
        {
          "output_type": "stream",
          "name": "stderr",
          "text": [
            "/usr/local/lib/python3.7/dist-packages/pandas/core/indexing.py:1734: SettingWithCopyWarning: \n",
            "A value is trying to be set on a copy of a slice from a DataFrame.\n",
            "Try using .loc[row_indexer,col_indexer] = value instead\n",
            "\n",
            "See the caveats in the documentation: https://pandas.pydata.org/pandas-docs/stable/user_guide/indexing.html#returning-a-view-versus-a-copy\n",
            "  isetter(loc, value[:, i].tolist())\n"
          ]
        }
      ]
    },
    {
      "cell_type": "code",
      "metadata": {
        "id": "VJ29W6ivNYlF",
        "colab": {
          "base_uri": "https://localhost:8080/"
        },
        "outputId": "5e2763e2-1150-46bd-e91c-c87b60bde02f"
      },
      "source": [
        "X_test.columns"
      ],
      "execution_count": 279,
      "outputs": [
        {
          "output_type": "execute_result",
          "data": {
            "text/plain": [
              "Index(['pclass', 'age', 'sibsp', 'parch', 'fare', 'sex_female', 'embarked_C',\n",
              "       'embarked_Q', 'embarked_S'],\n",
              "      dtype='object')"
            ]
          },
          "metadata": {},
          "execution_count": 279
        }
      ]
    },
    {
      "cell_type": "markdown",
      "metadata": {
        "id": "YY4QuB7TNsov"
      },
      "source": [
        "# Pré-Processamento\n",
        "Noramalizando os dados\n",
        "\n",
        "\n",
        "Traduzir os dados de modo que tenham valor e média igual a 0 e desvio padrão igual a 1."
      ]
    },
    {
      "cell_type": "code",
      "metadata": {
        "id": "Bg7xKXhQNvdh"
      },
      "source": [
        "cols = ['pclass', 'age', 'sibsp', 'parch', 'fare', 'sex_female', 'embarked_C',\n",
        "   'embarked_Q', 'embarked_S']"
      ],
      "execution_count": null,
      "outputs": []
    },
    {
      "cell_type": "code",
      "metadata": {
        "id": "1ggWFslbOKn6"
      },
      "source": [
        "scaler = preprocessing.StandardScaler()"
      ],
      "execution_count": null,
      "outputs": []
    },
    {
      "cell_type": "code",
      "metadata": {
        "id": "SVKY3pWaOLqd"
      },
      "source": [
        "X_train = scaler.fit_transform(X_train)"
      ],
      "execution_count": null,
      "outputs": []
    },
    {
      "cell_type": "code",
      "metadata": {
        "id": "4Zmnx8IrObHD"
      },
      "source": [
        "X_train = pd.DataFrame(X_train, columns=cols)"
      ],
      "execution_count": null,
      "outputs": []
    },
    {
      "cell_type": "code",
      "metadata": {
        "id": "S8HOHyBPOkI5"
      },
      "source": [
        "X_test = scaler.fit_transform(X_test)"
      ],
      "execution_count": null,
      "outputs": []
    },
    {
      "cell_type": "code",
      "metadata": {
        "id": "hulYUDhZOyZW"
      },
      "source": [
        "X_test = pd.DataFrame(X_test, columns=cols)"
      ],
      "execution_count": null,
      "outputs": []
    },
    {
      "cell_type": "markdown",
      "metadata": {
        "id": "lF5SUWPNuiG2"
      },
      "source": [
        "## Refatore\n",
        "\n",
        "- Função para limpeza\n",
        "- Função para divisão de base teste e treinamento."
      ]
    },
    {
      "cell_type": "code",
      "metadata": {
        "id": "iU30wDmDulRb"
      },
      "source": [
        "def tweak_titanic(df):\n",
        "    df = df.drop(\n",
        "        columns=[\n",
        "            \"name\",\n",
        "            \"ticket\",\n",
        "            \"home.dest\",\n",
        "            \"boat\",\n",
        "            \"body\",\n",
        "            \"cabin\",\n",
        "        ], axis=1\n",
        "    ).pipe(pd.get_dummies, drop_first=True)\n",
        "    return df"
      ],
      "execution_count": null,
      "outputs": []
    },
    {
      "cell_type": "code",
      "metadata": {
        "id": "lDE24ATr5A1Q"
      },
      "source": [
        "def get_train_test_X_y(df, y_col, size=0.3, std_cols=None):\n",
        "    y = df[y_col]\n",
        "    X = df.drop(columns=y_col)\n",
        "    X_train, X_test, y_train, y_test = train_test_split(\n",
        "        X,y, test_size=size, random_state=42\n",
        "    )\n",
        "    cols = X.columns\n",
        "    num_cols = [\n",
        "        \"pclass\",\n",
        "        \"age\",\n",
        "        \"sibsp\",\n",
        "        \"parch\",\n",
        "        \"fare\",\n",
        "    ]\n",
        "    fi = impute.IterativeImputer()\n",
        "    fitted = fi.fit_transform(X_train[num_cols])\n",
        "    X_train = X_train.assign(**{c:fitted[:,i] for i, c in enumerate(num_cols)})\n",
        "    test_fit = fi.transform(X_test[num_cols])\n",
        "    X_test = X_test.assign(**{c:test_fit[:,i] for i, c in enumerate(num_cols)})\n",
        "    if std_cols:\n",
        "        std = preprocessing.StandardScaler()\n",
        "        fitted = std.fit_transform(X_train[std_cols])\n",
        "        X_train = X_train.assign(**{c:fitted[:,i] for i, c in enumerate(std_cols)})\n",
        "        test_fit = std.transform(X_test[std_cols])\n",
        "        X_test = X_test.assign(**{c:test_fit[:,i] for i, c in enumerate(std_cols)})\n",
        "\n",
        "    return X_train, X_test, y_train, y_test    "
      ],
      "execution_count": null,
      "outputs": []
    },
    {
      "cell_type": "code",
      "metadata": {
        "id": "9Yupqqz93vSc"
      },
      "source": [
        "ti_df = tweak_titanic(orig_df)"
      ],
      "execution_count": null,
      "outputs": []
    },
    {
      "cell_type": "code",
      "metadata": {
        "colab": {
          "base_uri": "https://localhost:8080/"
        },
        "id": "_AYOSBBGvMd3",
        "outputId": "19bd4e67-7309-4f51-bc1c-4328bad76556"
      },
      "source": [
        "orig_df.columns"
      ],
      "execution_count": null,
      "outputs": [
        {
          "output_type": "execute_result",
          "data": {
            "text/plain": [
              "Index(['pclass', 'survived', 'name', 'sex', 'age', 'sibsp', 'parch', 'ticket',\n",
              "       'fare', 'cabin', 'embarked', 'boat', 'body', 'home.dest'],\n",
              "      dtype='object')"
            ]
          },
          "metadata": {},
          "execution_count": 60
        }
      ]
    },
    {
      "cell_type": "markdown",
      "metadata": {
        "id": "o6vaxrlp9J6R"
      },
      "source": [
        "#Modelos de base\n",
        "O teorema __“No Free Lunch”__ afirma que nenhum algoritmo tem bom desempenho em todos os dados. No entanto, para um número finito de dados, pode haver um algoritmo que tenha um bom desempenho nesse conjunto.\n"
      ]
    },
    {
      "cell_type": "markdown",
      "metadata": {
        "id": "7EJQxkQhG-u2"
      },
      "source": [
        "## Importando biblioteca de desempenho e Função de desempenho\n"
      ]
    },
    {
      "cell_type": "code",
      "metadata": {
        "id": "v1E6xLpVi1Gv"
      },
      "source": [
        "# Métricas de Desempenho\n",
        "from sklearn.metrics import accuracy_score\n",
        "from sklearn.metrics import roc_auc_score\n",
        "from sklearn.metrics import precision_score\n",
        "from sklearn.metrics import recall_score\n",
        "from sklearn.metrics import f1_score\n",
        "from scipy.stats import ks_2samp"
      ],
      "execution_count": 281,
      "outputs": []
    },
    {
      "cell_type": "code",
      "metadata": {
        "id": "n-GYOTesjIIq"
      },
      "source": [
        "# Função para cálculo do desempenho de modelos\n",
        "def calcula_desempenho(modelo, x_train, y_train, x_test, y_test):\n",
        "    \n",
        "    # Cálculo dos valores preditos\n",
        "    ypred_train = modelo.predict(x_train)\n",
        "    ypred_proba_train = modelo.predict_proba(x_train)[:,1]\n",
        "\n",
        "    ypred_test = modelo.predict(x_test)\n",
        "    ypred_proba_test = modelo.predict_proba(x_test)[:,1]\n",
        "\n",
        "    # Métricas de Desempenho\n",
        "    acc_train = accuracy_score(y_train, ypred_train)\n",
        "    acc_test = accuracy_score(y_test, ypred_test)\n",
        "    \n",
        "    roc_train = roc_auc_score(y_train, ypred_proba_train)\n",
        "    roc_test = roc_auc_score(y_test, ypred_proba_test)\n",
        "    \n",
        "    ks_train = ks_stat(y_train, ypred_proba_train)\n",
        "    ks_test = ks_stat(y_test, ypred_proba_test)\n",
        "    \n",
        "    prec_train = precision_score(y_train, ypred_train)\n",
        "    prec_test = precision_score(y_test, ypred_test)\n",
        "    \n",
        "    recl_train = recall_score(y_train, ypred_train)\n",
        "    recl_test = recall_score(y_test, ypred_test)\n",
        "    \n",
        "    f1_train = f1_score(y_train, ypred_train)\n",
        "    f1_test = f1_score(y_test, ypred_test)\n",
        "\n",
        "    df_desemp = pd.DataFrame({'Treino':[acc_train, roc_train, ks_train, \n",
        "                                   prec_train, recl_train, f1_train],\n",
        "                              'Teste':[acc_test, roc_test, ks_test,\n",
        "                                       prec_test, recl_test, f1_test]},\n",
        "                             index=['Acurácia','AUROC','KS',\n",
        "                                   'Precision','Recall','F1'])\n",
        "    df_desemp['Variação'] = round(df_desemp['Teste'] / df_desemp['Treino'] - 1, 2)\n",
        "\n",
        "    return df_desemp"
      ],
      "execution_count": 308,
      "outputs": []
    },
    {
      "cell_type": "code",
      "metadata": {
        "id": "JoMe930iG__z"
      },
      "source": [
        "from sklearn import model_selection\n",
        "\n",
        "\n",
        "\n",
        "\n",
        "from sklearn.naive_bayes import GaussianNB\n",
        "from sklearn.svm import SVC\n",
        "from sklearn.ensemble import RandomForestClassifier\n",
        "import xgboost"
      ],
      "execution_count": null,
      "outputs": []
    },
    {
      "cell_type": "code",
      "metadata": {
        "id": "3dDw4tm79_iF"
      },
      "source": [
        "#Juntado as base\n",
        "\n",
        "X = pd.concat([X_train, X_test])\n",
        "y = pd.concat([y_train, y_test])"
      ],
      "execution_count": null,
      "outputs": []
    },
    {
      "cell_type": "markdown",
      "metadata": {
        "id": "rgNbAZJjTRJy"
      },
      "source": [
        "### Dummy "
      ]
    },
    {
      "cell_type": "code",
      "metadata": {
        "id": "Et6dGkjQjNeG"
      },
      "source": [
        "from sklearn.dummy import DummyClassifier"
      ],
      "execution_count": 283,
      "outputs": []
    },
    {
      "cell_type": "code",
      "metadata": {
        "colab": {
          "base_uri": "https://localhost:8080/"
        },
        "id": "ThYx221B9Yws",
        "outputId": "e5769c9c-2f31-41e5-d918-35cf263b5498"
      },
      "source": [
        "# Treinamento do Modelo\n",
        "modelo_dummy = DummyClassifier()\n",
        "\n",
        "# Ajuste do Modelo\n",
        "modelo_dummy.fit(X_train, y_train)\n"
      ],
      "execution_count": 289,
      "outputs": [
        {
          "output_type": "stream",
          "name": "stderr",
          "text": [
            "/usr/local/lib/python3.7/dist-packages/sklearn/dummy.py:132: FutureWarning: The default value of strategy will change from stratified to prior in 0.24.\n",
            "  \"stratified to prior in 0.24.\", FutureWarning)\n"
          ]
        }
      ]
    },
    {
      "cell_type": "code",
      "metadata": {
        "id": "FgFni-Hq9swc",
        "colab": {
          "base_uri": "https://localhost:8080/",
          "height": 235
        },
        "outputId": "0dbd7b86-d527-4325-f8ab-b023582fa870"
      },
      "source": [
        "# Desempenho\n",
        "calcula_desempenho(modelo_dummy, X_train, y_train, X_test, y_test)"
      ],
      "execution_count": 290,
      "outputs": [
        {
          "output_type": "execute_result",
          "data": {
            "text/html": [
              "<div>\n",
              "<style scoped>\n",
              "    .dataframe tbody tr th:only-of-type {\n",
              "        vertical-align: middle;\n",
              "    }\n",
              "\n",
              "    .dataframe tbody tr th {\n",
              "        vertical-align: top;\n",
              "    }\n",
              "\n",
              "    .dataframe thead th {\n",
              "        text-align: right;\n",
              "    }\n",
              "</style>\n",
              "<table border=\"1\" class=\"dataframe\">\n",
              "  <thead>\n",
              "    <tr style=\"text-align: right;\">\n",
              "      <th></th>\n",
              "      <th>Treino</th>\n",
              "      <th>Teste</th>\n",
              "    </tr>\n",
              "  </thead>\n",
              "  <tbody>\n",
              "    <tr>\n",
              "      <th>Acurácia</th>\n",
              "      <td>0.518559</td>\n",
              "      <td>0.534351</td>\n",
              "    </tr>\n",
              "    <tr>\n",
              "      <th>AUROC</th>\n",
              "      <td>0.480037</td>\n",
              "      <td>0.501902</td>\n",
              "    </tr>\n",
              "    <tr>\n",
              "      <th>KS</th>\n",
              "      <td>0.039926</td>\n",
              "      <td>0.003804</td>\n",
              "    </tr>\n",
              "    <tr>\n",
              "      <th>Precision</th>\n",
              "      <td>0.328125</td>\n",
              "      <td>0.451389</td>\n",
              "    </tr>\n",
              "    <tr>\n",
              "      <th>Recall</th>\n",
              "      <td>0.317221</td>\n",
              "      <td>0.384615</td>\n",
              "    </tr>\n",
              "    <tr>\n",
              "      <th>F1</th>\n",
              "      <td>0.322581</td>\n",
              "      <td>0.415335</td>\n",
              "    </tr>\n",
              "  </tbody>\n",
              "</table>\n",
              "</div>"
            ],
            "text/plain": [
              "             Treino     Teste\n",
              "Acurácia   0.518559  0.534351\n",
              "AUROC      0.480037  0.501902\n",
              "KS         0.039926  0.003804\n",
              "Precision  0.328125  0.451389\n",
              "Recall     0.317221  0.384615\n",
              "F1         0.322581  0.415335"
            ]
          },
          "metadata": {},
          "execution_count": 290
        }
      ]
    },
    {
      "cell_type": "markdown",
      "metadata": {
        "id": "GaLfwvcvIsZ7"
      },
      "source": [
        "### Regressão Logistica "
      ]
    },
    {
      "cell_type": "code",
      "metadata": {
        "id": "lP2OJfSjkSSo"
      },
      "source": [
        "from sklearn.linear_model import LogisticRegression"
      ],
      "execution_count": null,
      "outputs": []
    },
    {
      "cell_type": "code",
      "metadata": {
        "id": "6vL2Plg3Hs6K"
      },
      "source": [
        "#configuração do Modelo\n",
        "modelo_log = LogisticRegression(random_state=42,\n",
        "                                fit_intercept=True)\n",
        "\n",
        "# Ajusta o modelo\n",
        "modelo_log.fit(X_train,y_train)"
      ],
      "execution_count": null,
      "outputs": []
    },
    {
      "cell_type": "code",
      "metadata": {
        "id": "3JBcsuGOJQH1",
        "colab": {
          "base_uri": "https://localhost:8080/"
        },
        "outputId": "ea5755fe-49f3-4008-e15e-4118e3c61ec4"
      },
      "source": [
        "#Obtenção dos coeficientes do modelo\n",
        "print('Intercepto:{}'.format(modelo_log.intercept_))\n",
        "print('Coeficiente: {}'.format(modelo_log.coef_))"
      ],
      "execution_count": 326,
      "outputs": [
        {
          "output_type": "stream",
          "name": "stdout",
          "text": [
            "Intercepto:[0.63394965]\n",
            "Coeficiente: [[-0.77332087 -0.01872525 -0.25611706 -0.08507051  0.00266798  2.45273933\n",
            "   0.65985512 -0.16084141  0.05485218]]\n"
          ]
        }
      ]
    },
    {
      "cell_type": "code",
      "metadata": {
        "id": "nNrQ4GwRLA51",
        "colab": {
          "base_uri": "https://localhost:8080/",
          "height": 235
        },
        "outputId": "a0505d3f-f6a0-4d04-8de8-1c649b1a4d92"
      },
      "source": [
        "# Desempenho\n",
        "calcula_desempenho(modelo_log, X_train, y_train, X_test, y_test)"
      ],
      "execution_count": 327,
      "outputs": [
        {
          "output_type": "execute_result",
          "data": {
            "text/html": [
              "<div>\n",
              "<style scoped>\n",
              "    .dataframe tbody tr th:only-of-type {\n",
              "        vertical-align: middle;\n",
              "    }\n",
              "\n",
              "    .dataframe tbody tr th {\n",
              "        vertical-align: top;\n",
              "    }\n",
              "\n",
              "    .dataframe thead th {\n",
              "        text-align: right;\n",
              "    }\n",
              "</style>\n",
              "<table border=\"1\" class=\"dataframe\">\n",
              "  <thead>\n",
              "    <tr style=\"text-align: right;\">\n",
              "      <th></th>\n",
              "      <th>Treino</th>\n",
              "      <th>Teste</th>\n",
              "      <th>Variação</th>\n",
              "    </tr>\n",
              "  </thead>\n",
              "  <tbody>\n",
              "    <tr>\n",
              "      <th>Acurácia</th>\n",
              "      <td>0.794760</td>\n",
              "      <td>0.801527</td>\n",
              "      <td>0.01</td>\n",
              "    </tr>\n",
              "    <tr>\n",
              "      <th>AUROC</th>\n",
              "      <td>0.832703</td>\n",
              "      <td>0.863258</td>\n",
              "      <td>0.04</td>\n",
              "    </tr>\n",
              "    <tr>\n",
              "      <th>KS</th>\n",
              "      <td>0.551316</td>\n",
              "      <td>0.586512</td>\n",
              "      <td>0.06</td>\n",
              "    </tr>\n",
              "    <tr>\n",
              "      <th>Precision</th>\n",
              "      <td>0.735974</td>\n",
              "      <td>0.847328</td>\n",
              "      <td>0.15</td>\n",
              "    </tr>\n",
              "    <tr>\n",
              "      <th>Recall</th>\n",
              "      <td>0.673716</td>\n",
              "      <td>0.656805</td>\n",
              "      <td>-0.03</td>\n",
              "    </tr>\n",
              "    <tr>\n",
              "      <th>F1</th>\n",
              "      <td>0.703470</td>\n",
              "      <td>0.740000</td>\n",
              "      <td>0.05</td>\n",
              "    </tr>\n",
              "  </tbody>\n",
              "</table>\n",
              "</div>"
            ],
            "text/plain": [
              "             Treino     Teste  Variação\n",
              "Acurácia   0.794760  0.801527      0.01\n",
              "AUROC      0.832703  0.863258      0.04\n",
              "KS         0.551316  0.586512      0.06\n",
              "Precision  0.735974  0.847328      0.15\n",
              "Recall     0.673716  0.656805     -0.03\n",
              "F1         0.703470  0.740000      0.05"
            ]
          },
          "metadata": {},
          "execution_count": 327
        }
      ]
    },
    {
      "cell_type": "markdown",
      "metadata": {
        "id": "rzj7KQxPTKed"
      },
      "source": [
        "### Arvore de decisão (PRECISON: 0.868 AUC: 0.841 STD: 0.034)"
      ]
    },
    {
      "cell_type": "code",
      "metadata": {
        "id": "kbM_zNxZmaO1"
      },
      "source": [
        "from sklearn.tree import DecisionTreeClassifier"
      ],
      "execution_count": 311,
      "outputs": []
    },
    {
      "cell_type": "code",
      "metadata": {
        "id": "FrNK-uduTJ8e",
        "colab": {
          "base_uri": "https://localhost:8080/"
        },
        "outputId": "583ae5f0-b75e-4da1-9a07-7f977c5527ad"
      },
      "source": [
        "#configuração do Modelo\n",
        "modelo_tree = DecisionTreeClassifier(max_depth=3, random_state=42)\n",
        "\n",
        "# Ajusta modelo\n",
        "modelo_tree.fit(X_train, y_train)"
      ],
      "execution_count": 304,
      "outputs": [
        {
          "output_type": "execute_result",
          "data": {
            "text/plain": [
              "DecisionTreeClassifier(ccp_alpha=0.0, class_weight=None, criterion='gini',\n",
              "                       max_depth=3, max_features=None, max_leaf_nodes=None,\n",
              "                       min_impurity_decrease=0.0, min_impurity_split=None,\n",
              "                       min_samples_leaf=1, min_samples_split=2,\n",
              "                       min_weight_fraction_leaf=0.0, presort='deprecated',\n",
              "                       random_state=42, splitter='best')"
            ]
          },
          "metadata": {},
          "execution_count": 304
        }
      ]
    },
    {
      "cell_type": "code",
      "metadata": {
        "id": "RyHo1MgGWQ9q",
        "colab": {
          "base_uri": "https://localhost:8080/",
          "height": 651
        },
        "outputId": "775dbee6-0db0-4bb2-9536-b0d74e78fb71"
      },
      "source": [
        "from sklearn import tree\n",
        "\n",
        "fig = plt.figure(figsize=(15,10))\n",
        "features = list(X.columns)\n",
        "tree.plot_tree(modelo_tree,feature_names=features);\n",
        "plt.title(\"Árvore de Decisão\");"
      ],
      "execution_count": 305,
      "outputs": [
        {
          "output_type": "display_data",
          "data": {
            "image/png": "[encoded data removed]",
            "text/plain": [
              "<Figure size 1500x1000 with 1 Axes>"
            ]
          },
          "metadata": {}
        }
      ]
    },
    {
      "cell_type": "code",
      "metadata": {
        "id": "jQ-MhVGRWFKX",
        "colab": {
          "base_uri": "https://localhost:8080/",
          "height": 235
        },
        "outputId": "d0ead69c-2f73-4937-936b-e8ceb477c673"
      },
      "source": [
        "calcula_desempenho(modelo_tree, X_train, y_train, X_test, y_test)"
      ],
      "execution_count": 310,
      "outputs": [
        {
          "output_type": "execute_result",
          "data": {
            "text/html": [
              "<div>\n",
              "<style scoped>\n",
              "    .dataframe tbody tr th:only-of-type {\n",
              "        vertical-align: middle;\n",
              "    }\n",
              "\n",
              "    .dataframe tbody tr th {\n",
              "        vertical-align: top;\n",
              "    }\n",
              "\n",
              "    .dataframe thead th {\n",
              "        text-align: right;\n",
              "    }\n",
              "</style>\n",
              "<table border=\"1\" class=\"dataframe\">\n",
              "  <thead>\n",
              "    <tr style=\"text-align: right;\">\n",
              "      <th></th>\n",
              "      <th>Treino</th>\n",
              "      <th>Teste</th>\n",
              "      <th>Variação</th>\n",
              "    </tr>\n",
              "  </thead>\n",
              "  <tbody>\n",
              "    <tr>\n",
              "      <th>Acurácia</th>\n",
              "      <td>0.815502</td>\n",
              "      <td>0.814249</td>\n",
              "      <td>-0.00</td>\n",
              "    </tr>\n",
              "    <tr>\n",
              "      <th>AUROC</th>\n",
              "      <td>0.850582</td>\n",
              "      <td>0.856892</td>\n",
              "      <td>0.01</td>\n",
              "    </tr>\n",
              "    <tr>\n",
              "      <th>KS</th>\n",
              "      <td>0.587807</td>\n",
              "      <td>0.604369</td>\n",
              "      <td>0.03</td>\n",
              "    </tr>\n",
              "    <tr>\n",
              "      <th>Precision</th>\n",
              "      <td>0.759615</td>\n",
              "      <td>0.828767</td>\n",
              "      <td>0.09</td>\n",
              "    </tr>\n",
              "    <tr>\n",
              "      <th>Recall</th>\n",
              "      <td>0.716012</td>\n",
              "      <td>0.715976</td>\n",
              "      <td>-0.00</td>\n",
              "    </tr>\n",
              "    <tr>\n",
              "      <th>F1</th>\n",
              "      <td>0.737170</td>\n",
              "      <td>0.768254</td>\n",
              "      <td>0.04</td>\n",
              "    </tr>\n",
              "  </tbody>\n",
              "</table>\n",
              "</div>"
            ],
            "text/plain": [
              "             Treino     Teste  Variação\n",
              "Acurácia   0.815502  0.814249     -0.00\n",
              "AUROC      0.850582  0.856892      0.01\n",
              "KS         0.587807  0.604369      0.03\n",
              "Precision  0.759615  0.828767      0.09\n",
              "Recall     0.716012  0.715976     -0.00\n",
              "F1         0.737170  0.768254      0.04"
            ]
          },
          "metadata": {},
          "execution_count": 310
        }
      ]
    },
    {
      "cell_type": "markdown",
      "metadata": {
        "id": "U8Ba8V2TXFjT"
      },
      "source": [
        "### Neighbors (PRECISON:  0.0 AUC: 0.0 STD: 0.0"
      ]
    },
    {
      "cell_type": "code",
      "metadata": {
        "id": "7hLn_x3gWHJf"
      },
      "source": [
        "from sklearn.neighbors import KNeighborsClassifier"
      ],
      "execution_count": 312,
      "outputs": []
    },
    {
      "cell_type": "code",
      "metadata": {
        "colab": {
          "base_uri": "https://localhost:8080/"
        },
        "id": "QXDs9Z4Emd48",
        "outputId": "7859f56a-e8f8-406d-9913-6eac0f0dfba7"
      },
      "source": [
        "#configuração do Modelo\n",
        "modelo_KN = KNeighborsClassifier(n_neighbors=2)\n",
        "\n",
        "# Ajusta modelo\n",
        "modelo_KN.fit(X_train, y_train)"
      ],
      "execution_count": 320,
      "outputs": [
        {
          "output_type": "execute_result",
          "data": {
            "text/plain": [
              "KNeighborsClassifier(algorithm='auto', leaf_size=30, metric='minkowski',\n",
              "                     metric_params=None, n_jobs=None, n_neighbors=2, p=2,\n",
              "                     weights='uniform')"
            ]
          },
          "metadata": {},
          "execution_count": 320
        }
      ]
    },
    {
      "cell_type": "code",
      "metadata": {
        "colab": {
          "base_uri": "https://localhost:8080/",
          "height": 235
        },
        "id": "CxlZK5Wemhvq",
        "outputId": "7d750dee-aaa8-4aa4-d61f-a9b6be627b27"
      },
      "source": [
        "calcula_desempenho(modelo_KN, X_train, y_train, X_test, y_test)"
      ],
      "execution_count": 321,
      "outputs": [
        {
          "output_type": "execute_result",
          "data": {
            "text/html": [
              "<div>\n",
              "<style scoped>\n",
              "    .dataframe tbody tr th:only-of-type {\n",
              "        vertical-align: middle;\n",
              "    }\n",
              "\n",
              "    .dataframe tbody tr th {\n",
              "        vertical-align: top;\n",
              "    }\n",
              "\n",
              "    .dataframe thead th {\n",
              "        text-align: right;\n",
              "    }\n",
              "</style>\n",
              "<table border=\"1\" class=\"dataframe\">\n",
              "  <thead>\n",
              "    <tr style=\"text-align: right;\">\n",
              "      <th></th>\n",
              "      <th>Treino</th>\n",
              "      <th>Teste</th>\n",
              "      <th>Variação</th>\n",
              "    </tr>\n",
              "  </thead>\n",
              "  <tbody>\n",
              "    <tr>\n",
              "      <th>Acurácia</th>\n",
              "      <td>0.824236</td>\n",
              "      <td>0.618321</td>\n",
              "      <td>-0.25</td>\n",
              "    </tr>\n",
              "    <tr>\n",
              "      <th>AUROC</th>\n",
              "      <td>0.931172</td>\n",
              "      <td>0.626347</td>\n",
              "      <td>-0.33</td>\n",
              "    </tr>\n",
              "    <tr>\n",
              "      <th>KS</th>\n",
              "      <td>0.738740</td>\n",
              "      <td>0.216505</td>\n",
              "      <td>-0.71</td>\n",
              "    </tr>\n",
              "    <tr>\n",
              "      <th>Precision</th>\n",
              "      <td>0.982955</td>\n",
              "      <td>0.630137</td>\n",
              "      <td>-0.36</td>\n",
              "    </tr>\n",
              "    <tr>\n",
              "      <th>Recall</th>\n",
              "      <td>0.522659</td>\n",
              "      <td>0.272189</td>\n",
              "      <td>-0.48</td>\n",
              "    </tr>\n",
              "    <tr>\n",
              "      <th>F1</th>\n",
              "      <td>0.682446</td>\n",
              "      <td>0.380165</td>\n",
              "      <td>-0.44</td>\n",
              "    </tr>\n",
              "  </tbody>\n",
              "</table>\n",
              "</div>"
            ],
            "text/plain": [
              "             Treino     Teste  Variação\n",
              "Acurácia   0.824236  0.618321     -0.25\n",
              "AUROC      0.931172  0.626347     -0.33\n",
              "KS         0.738740  0.216505     -0.71\n",
              "Precision  0.982955  0.630137     -0.36\n",
              "Recall     0.522659  0.272189     -0.48\n",
              "F1         0.682446  0.380165     -0.44"
            ]
          },
          "metadata": {},
          "execution_count": 321
        }
      ]
    },
    {
      "cell_type": "markdown",
      "metadata": {
        "id": "hlwGQuJ0noYg"
      },
      "source": [
        "### Naive Bayes"
      ]
    },
    {
      "cell_type": "code",
      "metadata": {
        "id": "zbIM-SRandtM"
      },
      "source": [
        "from sklearn.naive_bayes import GaussianNB"
      ],
      "execution_count": 322,
      "outputs": []
    },
    {
      "cell_type": "code",
      "metadata": {
        "colab": {
          "base_uri": "https://localhost:8080/"
        },
        "id": "ey4sJ5oAnJGk",
        "outputId": "acebfea7-bab2-4fd5-af3a-89d874232c83"
      },
      "source": [
        "#configuração do Modelo\n",
        "modelo_naive = GaussianNB()\n",
        "\n",
        "# Ajusta modelo\n",
        "modelo_naive.fit(X_train, y_train)"
      ],
      "execution_count": 323,
      "outputs": [
        {
          "output_type": "execute_result",
          "data": {
            "text/plain": [
              "GaussianNB(priors=None, var_smoothing=1e-09)"
            ]
          },
          "metadata": {},
          "execution_count": 323
        }
      ]
    },
    {
      "cell_type": "code",
      "metadata": {
        "colab": {
          "base_uri": "https://localhost:8080/",
          "height": 235
        },
        "id": "JI37fcAtoO18",
        "outputId": "fb3f36a3-5a10-4b7f-9788-52592f1669ae"
      },
      "source": [
        "calcula_desempenho(modelo_naive, X_train, y_train, X_test, y_test)"
      ],
      "execution_count": 324,
      "outputs": [
        {
          "output_type": "execute_result",
          "data": {
            "text/html": [
              "<div>\n",
              "<style scoped>\n",
              "    .dataframe tbody tr th:only-of-type {\n",
              "        vertical-align: middle;\n",
              "    }\n",
              "\n",
              "    .dataframe tbody tr th {\n",
              "        vertical-align: top;\n",
              "    }\n",
              "\n",
              "    .dataframe thead th {\n",
              "        text-align: right;\n",
              "    }\n",
              "</style>\n",
              "<table border=\"1\" class=\"dataframe\">\n",
              "  <thead>\n",
              "    <tr style=\"text-align: right;\">\n",
              "      <th></th>\n",
              "      <th>Treino</th>\n",
              "      <th>Teste</th>\n",
              "      <th>Variação</th>\n",
              "    </tr>\n",
              "  </thead>\n",
              "  <tbody>\n",
              "    <tr>\n",
              "      <th>Acurácia</th>\n",
              "      <td>0.788210</td>\n",
              "      <td>0.735369</td>\n",
              "      <td>-0.07</td>\n",
              "    </tr>\n",
              "    <tr>\n",
              "      <th>AUROC</th>\n",
              "      <td>0.808250</td>\n",
              "      <td>0.809026</td>\n",
              "      <td>0.00</td>\n",
              "    </tr>\n",
              "    <tr>\n",
              "      <th>KS</th>\n",
              "      <td>0.534893</td>\n",
              "      <td>0.534182</td>\n",
              "      <td>-0.00</td>\n",
              "    </tr>\n",
              "    <tr>\n",
              "      <th>Precision</th>\n",
              "      <td>0.764479</td>\n",
              "      <td>0.764228</td>\n",
              "      <td>-0.00</td>\n",
              "    </tr>\n",
              "    <tr>\n",
              "      <th>Recall</th>\n",
              "      <td>0.598187</td>\n",
              "      <td>0.556213</td>\n",
              "      <td>-0.07</td>\n",
              "    </tr>\n",
              "    <tr>\n",
              "      <th>F1</th>\n",
              "      <td>0.671186</td>\n",
              "      <td>0.643836</td>\n",
              "      <td>-0.04</td>\n",
              "    </tr>\n",
              "  </tbody>\n",
              "</table>\n",
              "</div>"
            ],
            "text/plain": [
              "             Treino     Teste  Variação\n",
              "Acurácia   0.788210  0.735369     -0.07\n",
              "AUROC      0.808250  0.809026      0.00\n",
              "KS         0.534893  0.534182     -0.00\n",
              "Precision  0.764479  0.764228     -0.00\n",
              "Recall     0.598187  0.556213     -0.07\n",
              "F1         0.671186  0.643836     -0.04"
            ]
          },
          "metadata": {},
          "execution_count": 324
        }
      ]
    },
    {
      "cell_type": "code",
      "metadata": {
        "id": "aHbfRTpsoSM_"
      },
      "source": [
        ""
      ],
      "execution_count": null,
      "outputs": []
    }
  ]
}