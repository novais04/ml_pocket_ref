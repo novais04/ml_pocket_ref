{
  "nbformat": 4,
  "nbformat_minor": 0,
  "metadata": {
    "colab": {
      "name": "ch07-Pre_processamento_dos_dados.ipynb",
      "provenance": [],
      "toc_visible": true,
      "authorship_tag": "ABX9TyOSKcWhqMtZmBTAFN781R0e"
    },
    "kernelspec": {
      "name": "python3",
      "display_name": "Python 3"
    },
    "language_info": {
      "name": "python"
    }
  },
  "cells": [
    {
      "cell_type": "markdown",
      "metadata": {
        "id": "YJxAEv_WycLJ"
      },
      "source": [
        "# Capitulo 07\n",
        "__Pré-Processameneto dos dados__\n",
        "\n",
        "Os passos coomuns de pré-processamento de dados\n"
      ]
    },
    {
      "cell_type": "code",
      "metadata": {
        "id": "qb-V6jP6ygmm"
      },
      "source": [
        "import pandas as pd"
      ],
      "execution_count": 1,
      "outputs": []
    },
    {
      "cell_type": "code",
      "metadata": {
        "id": "lZ9Jq8ioySmf"
      },
      "source": [
        "X2 = pd.DataFrame(\n",
        "    {\n",
        "        \"a\": range(5),\n",
        "        \"b\": [-100, -50, 0, 200, 1000]\n",
        "    }\n",
        ")"
      ],
      "execution_count": 2,
      "outputs": []
    },
    {
      "cell_type": "code",
      "metadata": {
        "colab": {
          "base_uri": "https://localhost:8080/",
          "height": 206
        },
        "id": "g4dQIcohzKEB",
        "outputId": "db26e0bd-faa4-401e-c7a0-b99a72629968"
      },
      "source": [
        "X2"
      ],
      "execution_count": 3,
      "outputs": [
        {
          "output_type": "execute_result",
          "data": {
            "text/html": [
              "<div>\n",
              "<style scoped>\n",
              "    .dataframe tbody tr th:only-of-type {\n",
              "        vertical-align: middle;\n",
              "    }\n",
              "\n",
              "    .dataframe tbody tr th {\n",
              "        vertical-align: top;\n",
              "    }\n",
              "\n",
              "    .dataframe thead th {\n",
              "        text-align: right;\n",
              "    }\n",
              "</style>\n",
              "<table border=\"1\" class=\"dataframe\">\n",
              "  <thead>\n",
              "    <tr style=\"text-align: right;\">\n",
              "      <th></th>\n",
              "      <th>a</th>\n",
              "      <th>b</th>\n",
              "    </tr>\n",
              "  </thead>\n",
              "  <tbody>\n",
              "    <tr>\n",
              "      <th>0</th>\n",
              "      <td>0</td>\n",
              "      <td>-100</td>\n",
              "    </tr>\n",
              "    <tr>\n",
              "      <th>1</th>\n",
              "      <td>1</td>\n",
              "      <td>-50</td>\n",
              "    </tr>\n",
              "    <tr>\n",
              "      <th>2</th>\n",
              "      <td>2</td>\n",
              "      <td>0</td>\n",
              "    </tr>\n",
              "    <tr>\n",
              "      <th>3</th>\n",
              "      <td>3</td>\n",
              "      <td>200</td>\n",
              "    </tr>\n",
              "    <tr>\n",
              "      <th>4</th>\n",
              "      <td>4</td>\n",
              "      <td>1000</td>\n",
              "    </tr>\n",
              "  </tbody>\n",
              "</table>\n",
              "</div>"
            ],
            "text/plain": [
              "   a     b\n",
              "0  0  -100\n",
              "1  1   -50\n",
              "2  2     0\n",
              "3  3   200\n",
              "4  4  1000"
            ]
          },
          "metadata": {},
          "execution_count": 3
        }
      ]
    },
    {
      "cell_type": "markdown",
      "metadata": {
        "id": "qGSwC775zOUZ"
      },
      "source": [
        "## Padronização dos dados\n",
        "\n",
        "Alguns algoritimos como SVM apresentam melhor desempenho quanto dos dados estão __Padronizados__\n",
        "\n",
        "O ```sklearn.preprocessing.StandarScaler``` disponibiliza um método ```fit_transform``` que combina __.fit__ e __.transform__."
      ]
    },
    {
      "cell_type": "code",
      "metadata": {
        "id": "rt_TykoMzLeH"
      },
      "source": [
        "from sklearn.preprocessing import StandardScaler"
      ],
      "execution_count": 4,
      "outputs": []
    },
    {
      "cell_type": "code",
      "metadata": {
        "colab": {
          "base_uri": "https://localhost:8080/"
        },
        "id": "CiJ0vJt20Cvs",
        "outputId": "b3505816-fb40-4694-c54a-61590426208c"
      },
      "source": [
        "scaler = StandardScaler()\n",
        "scaler.fit_transform(X2)"
      ],
      "execution_count": 5,
      "outputs": [
        {
          "output_type": "execute_result",
          "data": {
            "text/plain": [
              "array([[-1.41421356, -0.75995002],\n",
              "       [-0.70710678, -0.63737744],\n",
              "       [ 0.        , -0.51480485],\n",
              "       [ 0.70710678, -0.02451452],\n",
              "       [ 1.41421356,  1.93664683]])"
            ]
          },
          "metadata": {},
          "execution_count": 5
        }
      ]
    },
    {
      "cell_type": "code",
      "metadata": {
        "id": "-UF6uNpF0N5c"
      },
      "source": [
        ""
      ],
      "execution_count": null,
      "outputs": []
    },
    {
      "cell_type": "markdown",
      "metadata": {
        "id": "KyCnEsX20R3q"
      },
      "source": [
        "Após a adequação dos dados podemos inpecionar vários atributos"
      ]
    },
    {
      "cell_type": "code",
      "metadata": {
        "colab": {
          "base_uri": "https://localhost:8080/"
        },
        "id": "6_GugnDs0Wb3",
        "outputId": "e5df852c-b9ef-4bfa-b2bd-a8fede720804"
      },
      "source": [
        "scaler.scale_"
      ],
      "execution_count": 6,
      "outputs": [
        {
          "output_type": "execute_result",
          "data": {
            "text/plain": [
              "array([  1.41421356, 407.92156109])"
            ]
          },
          "metadata": {},
          "execution_count": 6
        }
      ]
    },
    {
      "cell_type": "code",
      "metadata": {
        "colab": {
          "base_uri": "https://localhost:8080/"
        },
        "id": "ereofQ9u0ZaJ",
        "outputId": "5c9c8d76-7762-45e4-a288-cbe1f3de614b"
      },
      "source": [
        "scaler.mean_"
      ],
      "execution_count": 7,
      "outputs": [
        {
          "output_type": "execute_result",
          "data": {
            "text/plain": [
              "array([  2., 210.])"
            ]
          },
          "metadata": {},
          "execution_count": 7
        }
      ]
    },
    {
      "cell_type": "code",
      "metadata": {
        "colab": {
          "base_uri": "https://localhost:8080/"
        },
        "id": "Kq6hXHIa0dQn",
        "outputId": "24230820-b6e8-40d9-c16c-64a6771cbfe3"
      },
      "source": [
        "scaler.var_"
      ],
      "execution_count": 8,
      "outputs": [
        {
          "output_type": "execute_result",
          "data": {
            "text/plain": [
              "array([2.000e+00, 1.664e+05])"
            ]
          },
          "metadata": {},
          "execution_count": 8
        }
      ]
    },
    {
      "cell_type": "code",
      "metadata": {
        "id": "ZAxgGNrY0fiP"
      },
      "source": [
        ""
      ],
      "execution_count": null,
      "outputs": []
    }
  ]
}